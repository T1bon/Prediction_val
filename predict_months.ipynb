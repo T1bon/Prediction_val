{
 "cells": [
  {
   "cell_type": "code",
   "execution_count": 194,
   "metadata": {},
   "outputs": [],
   "source": [
    "import warnings\n",
    "import itertools\n",
    "import pandas as pd\n",
    "import numpy as np\n",
    "import statsmodels.api as sm\n",
    "import matplotlib.pyplot as plt\n",
    "plt.style.use('fivethirtyeight')"
   ]
  },
  {
   "cell_type": "code",
   "execution_count": 195,
   "metadata": {},
   "outputs": [],
   "source": [
    "file = 'source.xlsx'\n",
    "x1 = pd.ExcelFile(file)\n",
    "x1.sheet_names\n",
    "df = x1.parse('months')"
   ]
  },
  {
   "cell_type": "code",
   "execution_count": 196,
   "metadata": {},
   "outputs": [],
   "source": [
    "# список департаментов первого уровня (territ_subdiv_1)\n",
    "territ_subdiv_1_list = list(set(df['territ_subdiv_1']))"
   ]
  },
  {
   "cell_type": "code",
   "execution_count": 206,
   "metadata": {},
   "outputs": [],
   "source": [
    "def predict_func(df, start):\n",
    "    \"\"\"\n",
    "    df -- дата-фрэйм, подготовленный для модели\n",
    "    start -- дата начала прогноза\n",
    "    return: таблица со значениями, тип - pandas.Series\n",
    "    \"\"\"\n",
    "    p = d = q = range(0, 2)\n",
    "    # Генерируем различные комбинации p, q и q\n",
    "    pdq = list(itertools.product(p, d, q))\n",
    "    # Генерируем комбинации сезонных параметров P, D и Q, где 12 - периодичность временного ряда\n",
    "    seasonal_pdq = [(x[0], x[1], x[2], 12) for x in list(itertools.product(p, d, q))] \n",
    "    \n",
    "    warnings.filterwarnings(\"ignore\") # отключает предупреждения\n",
    "    \n",
    "    res_aic = 0 # переменная для хранения наилучшего результата для модели\n",
    "    \n",
    "    for param in pdq:\n",
    "        for param_seasonal in seasonal_pdq:\n",
    "            try:\n",
    "                mod = sm.tsa.statespace.SARIMAX(df,\n",
    "                order=param,\n",
    "                seasonal_order=param_seasonal,\n",
    "                enforce_stationarity=False,\n",
    "                enforce_invertibility=False)\n",
    "                results = mod.fit()\n",
    "#                 print(f'ARIMA{param}x{param_seasonal} - AIC:{results.aic}')\n",
    "                if results.aic < res_aic:    # если текущий коэффициент AIC меньше предыдущего\n",
    "                    res_aic = results.aic    # сохраняем этот AIC\n",
    "                    res_param = param        # сохраняем кортеж с p, d, q\n",
    "                    res_param_seasonal = param_seasonal   # сохраняем кортеж с P, D, Q, S\n",
    "                else:\n",
    "                    continue\n",
    "            except:\n",
    "                continue\n",
    "                \n",
    "    mod = sm.tsa.statespace.SARIMAX(\n",
    "        df,\n",
    "        order=(res_param[0], res_param[1], res_param[2]),\n",
    "        seasonal_order=(res_param_seasonal[0], res_param_seasonal[1], res_param_seasonal[2], res_param_seasonal[3]),\n",
    "        enforce_stationarity=False,\n",
    "        enforce_invertibility=False)\n",
    "    results = mod.fit()\n",
    "    \n",
    "    # Сравним прогнозируемые значения с реальными значениями временного ряда, \n",
    "    # что поможет нам понять точность прогнозов. \n",
    "    # Атрибуты get_prediction () и conf_int () позволяют получать значения и интервалы для прогнозов временных рядов.\n",
    "    pred = results.get_prediction(start=pd.to_datetime(start), dynamic=False)\n",
    "    pred_ci = pred.conf_int()\n",
    "    \n",
    "    # Вычислить среднеквадратичную ошибку\n",
    "    y_forecasted = pred.predicted_mean\n",
    "    y_truth = df[start:].squeeze() \n",
    "    mse = ((y_forecasted - y_truth) ** 2).mean()\n",
    "    print(f'The Mean Squared Error of our forecasts is {round(mse, 2)}')\n",
    "    \n",
    "    # Получить прогноз на 12 шагов вперёд\n",
    "    pred_uc = results.get_forecast(steps=12)\n",
    "    \n",
    "    # Получить интервал прогноза\n",
    "    pred_ci = pred_uc.conf_int()\n",
    "    \n",
    "    print('Task is complete. The result is received!')\n",
    "    print('*************')\n",
    "    \n",
    "    return pred_uc.predicted_mean"
   ]
  },
  {
   "cell_type": "code",
   "execution_count": 207,
   "metadata": {
    "scrolled": true
   },
   "outputs": [
    {
     "name": "stdout",
     "output_type": "stream",
     "text": [
      "Current territ_subdiv_1: 1 and Current territ_subdiv_2: 1\n",
      "The Mean Squared Error of our forecasts is 0.01\n",
      "Task is complete. The result is received!\n",
      "*************\n",
      "Current territ_subdiv_1: 1 and Current territ_subdiv_2: 2\n",
      "The Mean Squared Error of our forecasts is 0.01\n",
      "Task is complete. The result is received!\n",
      "*************\n",
      "Current territ_subdiv_1: 2 and Current territ_subdiv_2: 1\n",
      "The Mean Squared Error of our forecasts is 0.0\n",
      "Task is complete. The result is received!\n",
      "*************\n",
      "Current territ_subdiv_1: 2 and Current territ_subdiv_2: 2\n",
      "The Mean Squared Error of our forecasts is 0.0\n",
      "Task is complete. The result is received!\n",
      "*************\n",
      "Запись в файл Excel...\n",
      "Работа завершена!\n"
     ]
    }
   ],
   "source": [
    "# создаем пустой DataFrame \n",
    "res_df = pd.DataFrame()\n",
    "for el1 in territ_subdiv_1_list:\n",
    "    # проходим в цикле все департаменты первого уровня\n",
    "    df_query = df.query('territ_subdiv_1 == @el1')\n",
    "    # находим все подразделения второго урвоня (territ_subdiv_2), на которые дробится первый уровень\n",
    "    territ_subdiv_2_list = list(set(df_query['territ_subdiv_2']))\n",
    "    for el2 in territ_subdiv_2_list:\n",
    "        print(f'Current territ_subdiv_1: {el1} and Current territ_subdiv_2: {el2}')\n",
    "        # выбираем из DF только нужные столбцы ('report_dt и val'), сбрасываем индексы, готовим DF для работы с функцией \n",
    "        # предсказания временного ряда\n",
    "        df1 = df.query('territ_subdiv_1 == @el1 and territ_subdiv_2 == @el2')[['report_dt', 'val']] \\\n",
    "                .set_index('report_dt')\n",
    "        # запускаем функцию предсказания и делаем DF из pandas.Series\n",
    "        temp_df = predict_func(df=df1, start='2018-01-31').to_frame('val')\n",
    "        # добавляем столбцы с территориями\n",
    "        temp_df = temp_df.reset_index() \\\n",
    "                        .assign(territ_subdiv_1=el1, territ_subdiv_2=el2) \\\n",
    "                        .rename(columns={'index': 'report_dt'}) \\\n",
    "                            [['report_dt', 'territ_subdiv_1', 'territ_subdiv_2', 'val']]\n",
    "        # на каждом шаге добавляем к существующим данным новый DF\n",
    "        res_df = res_df.append(temp_df)\n",
    "        \n",
    "# записываем результат в файл Excel\n",
    "print('Запись в файл Excel...')\n",
    "with pd.ExcelWriter('output.xlsx', datetime_format='DD.MM.YYYY', mode='a', engine='openpyxl') as writer:  \n",
    "            res_df.to_excel(writer, index=False, header=True)\n",
    "print('Работа завершена!')"
   ]
  },
  {
   "cell_type": "code",
   "execution_count": null,
   "metadata": {},
   "outputs": [],
   "source": []
  }
 ],
 "metadata": {
  "kernelspec": {
   "display_name": "Python 3",
   "language": "python",
   "name": "python3"
  },
  "language_info": {
   "codemirror_mode": {
    "name": "ipython",
    "version": 3
   },
   "file_extension": ".py",
   "mimetype": "text/x-python",
   "name": "python",
   "nbconvert_exporter": "python",
   "pygments_lexer": "ipython3",
   "version": "3.7.6"
  }
 },
 "nbformat": 4,
 "nbformat_minor": 4
}
